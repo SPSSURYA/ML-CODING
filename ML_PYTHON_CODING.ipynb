{
  "nbformat": 4,
  "nbformat_minor": 0,
  "metadata": {
    "colab": {
      "name": "ML PYTHON CODING.ipynb",
      "provenance": [],
      "authorship_tag": "ABX9TyNyWdy9WpAebRZJ3VS3MOQJ",
      "include_colab_link": true
    },
    "kernelspec": {
      "name": "python3",
      "display_name": "Python 3"
    }
  },
  "cells": [
    {
      "cell_type": "markdown",
      "metadata": {
        "id": "view-in-github",
        "colab_type": "text"
      },
      "source": [
        "<a href=\"https://colab.research.google.com/github/SPSSURYA/ML-CODING/blob/master/ML_PYTHON_CODING.ipynb\" target=\"_parent\"><img src=\"https://colab.research.google.com/assets/colab-badge.svg\" alt=\"Open In Colab\"/></a>"
      ]
    },
    {
      "cell_type": "markdown",
      "metadata": {
        "id": "B_mBcAZa80aa",
        "colab_type": "text"
      },
      "source": [
        " Write a Python program which accepts the \n",
        "user's first and last name and print them in \n",
        "reverse order with a space between them"
      ]
    },
    {
      "cell_type": "code",
      "metadata": {
        "id": "Fs7ONm5S8zZa",
        "colab_type": "code",
        "colab": {
          "base_uri": "https://localhost:8080/",
          "height": 68
        },
        "outputId": "78279d00-c3a2-411d-87fa-8704e665d94d"
      },
      "source": [
        "a = input(\"Enter the first name : \")\n",
        "b = input(\"Enter the last name : \")\n",
        "print(b, a)"
      ],
      "execution_count": null,
      "outputs": [
        {
          "output_type": "stream",
          "text": [
            "Enter the first name : Surya\n",
            "Enter the last name : Prakash\n",
            "Prakash Surya\n"
          ],
          "name": "stdout"
        }
      ]
    },
    {
      "cell_type": "markdown",
      "metadata": {
        "id": "l_iUEXhJ9BYN",
        "colab_type": "text"
      },
      "source": [
        " Write a Python program to calculate number of \n",
        "days between two dates."
      ]
    },
    {
      "cell_type": "code",
      "metadata": {
        "id": "oEleGqVHAsAn",
        "colab_type": "code",
        "colab": {
          "base_uri": "https://localhost:8080/",
          "height": 136
        },
        "outputId": "ffa00242-d194-4c66-ff50-9bddd718d6be"
      },
      "source": [
        " \n",
        "from datetime import date\n",
        "y1=int(input(\"Enter the starting year : \"))\n",
        "m1=int(input(\"Enter the starting month : \"))\n",
        "d1=int(input(\"Enter the  starting date : \"))\n",
        "y2=int(input(\"Enter the ending year : \"))\n",
        "m2=int(input(\"Enter the ending month : \"))\n",
        "d2=int(input(\"Enter the ending date : \"))\n",
        "f_date = date(y1, m1, d1)\n",
        "l_date = date(y2, m2, d2)\n",
        "delta = l_date - f_date\n",
        "print(delta.days)"
      ],
      "execution_count": 2,
      "outputs": [
        {
          "output_type": "stream",
          "text": [
            "Enter the starting year : 2001\n",
            "Enter the starting month : 2\n",
            "Enter the  starting date : 11\n",
            "Enter the ending year : 2020\n",
            "Enter the ending month : 9\n",
            "Enter the ending date : 2\n",
            "7143\n"
          ],
          "name": "stdout"
        }
      ]
    },
    {
      "cell_type": "markdown",
      "metadata": {
        "id": "SODZe1fnBK-Q",
        "colab_type": "text"
      },
      "source": [
        " Write a Python program to test whether a \n",
        "passed letter is a vowel or not"
      ]
    },
    {
      "cell_type": "code",
      "metadata": {
        "id": "yIzbNmKA9Bvn",
        "colab_type": "code",
        "colab": {
          "base_uri": "https://localhost:8080/",
          "height": 51
        },
        "outputId": "d86e7697-c5b6-41ac-a03b-314f46750c5a"
      },
      "source": [
        " \n",
        "l = input(\"Enter the letter: \")\n",
        "if l in set('AEIOUaeiou'):\n",
        "    print(\"It's a vowel letter\")\n",
        "else:\n",
        "    print(\"It's not a vowel letter\")"
      ],
      "execution_count": null,
      "outputs": [
        {
          "output_type": "stream",
          "text": [
            "Enter the letter: P\n",
            "It's not a vowel letter\n"
          ],
          "name": "stdout"
        }
      ]
    },
    {
      "cell_type": "markdown",
      "metadata": {
        "id": "4S7nYPFt-EzY",
        "colab_type": "text"
      },
      "source": [
        " Write a Python program to sum of three given \n",
        "integers. However, if two values are equal sum \n",
        "will be zero."
      ]
    },
    {
      "cell_type": "code",
      "metadata": {
        "id": "moIXDYp_-FIg",
        "colab_type": "code",
        "colab": {
          "base_uri": "https://localhost:8080/",
          "height": 85
        },
        "outputId": "93ac5cbe-5389-4b39-db15-fac7697b72ec"
      },
      "source": [
        " \n",
        "def sum(x, y, z):\n",
        "    if x == y or y == z or x==z:\n",
        "        sum = 0\n",
        "    else:\n",
        "        sum = x + y + z\n",
        "    return sum\n",
        "x=int(input(\"Enter the first number : \"))\n",
        "y=int(input(\"Enter the second number : \"))\n",
        "z=int(input(\"Enter the third number : \"))\n",
        "print(sum(x, y, z))"
      ],
      "execution_count": 3,
      "outputs": [
        {
          "output_type": "stream",
          "text": [
            "Enter the first number : 11\n",
            "Enter the second number : 4\n",
            "Enter the third number : 6\n",
            "21\n"
          ],
          "name": "stdout"
        }
      ]
    },
    {
      "cell_type": "markdown",
      "metadata": {
        "id": "se8MSNz__r4D",
        "colab_type": "text"
      },
      "source": [
        " Write a Python program to count the number of \n",
        "characters (character frequency) in a string"
      ]
    },
    {
      "cell_type": "code",
      "metadata": {
        "id": "TYSQ9mWeL9i5",
        "colab_type": "code",
        "colab": {
          "base_uri": "https://localhost:8080/",
          "height": 51
        },
        "outputId": "9d98a7af-a900-48ae-a09f-9812d2f85d3e"
      },
      "source": [
        " \n",
        "def char_frequency(str1):\n",
        "    dict = {}\n",
        "    for n in str1:\n",
        "        keys = dict.keys()\n",
        "        if n in keys:\n",
        "            dict[n] += 1\n",
        "        else:\n",
        "            dict[n] = 1\n",
        "    return dict\n",
        "ch=input(\"Enter the String : \")\n",
        "print(char_frequency(ch))"
      ],
      "execution_count": 6,
      "outputs": [
        {
          "output_type": "stream",
          "text": [
            "Enter the String : Raja\n",
            "{'R': 1, 'a': 2, 'j': 1}\n"
          ],
          "name": "stdout"
        }
      ]
    }
  ]
}